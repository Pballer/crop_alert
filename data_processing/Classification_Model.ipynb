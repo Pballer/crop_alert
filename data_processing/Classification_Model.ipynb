{
 "cells": [
  {
   "cell_type": "code",
   "execution_count": 1,
   "metadata": {},
   "outputs": [
    {
     "name": "stderr",
     "output_type": "stream",
     "text": [
      "Using TensorFlow backend.\n"
     ]
    }
   ],
   "source": [
    "from keras.preprocessing.image import ImageDataGenerator, array_to_img, img_to_array, load_img"
   ]
  },
  {
   "cell_type": "code",
   "execution_count": 2,
   "metadata": {},
   "outputs": [],
   "source": [
    "datagen = ImageDataGenerator(\n",
    "        rotation_range=40,\n",
    "        width_shift_range=0.2,\n",
    "        height_shift_range=0.2,\n",
    "        shear_range=0.2,\n",
    "        zoom_range=0.2,\n",
    "        horizontal_flip=True,\n",
    "        fill_mode='nearest')"
   ]
  },
  {
   "cell_type": "code",
   "execution_count": 3,
   "metadata": {
    "collapsed": true
   },
   "outputs": [
    {
     "ename": "FileNotFoundError",
     "evalue": "[Errno 2] No such file or directory: 'data/rust/masked_1.jpg'",
     "output_type": "error",
     "traceback": [
      "\u001b[1;31m---------------------------------------------------------------------------\u001b[0m",
      "\u001b[1;31mFileNotFoundError\u001b[0m                         Traceback (most recent call last)",
      "\u001b[1;32m<ipython-input-3-bf81064859d6>\u001b[0m in \u001b[0;36m<module>\u001b[1;34m\u001b[0m\n\u001b[1;32m----> 1\u001b[1;33m \u001b[0mimg\u001b[0m \u001b[1;33m=\u001b[0m \u001b[0mload_img\u001b[0m\u001b[1;33m(\u001b[0m\u001b[1;34m'data/rust/masked_1.jpg'\u001b[0m\u001b[1;33m)\u001b[0m  \u001b[1;31m# this is a PIL image\u001b[0m\u001b[1;33m\u001b[0m\u001b[1;33m\u001b[0m\u001b[0m\n\u001b[0m",
      "\u001b[1;32m~\\Anaconda3\\envs\\tf_gpu\\lib\\site-packages\\keras_preprocessing\\image\\utils.py\u001b[0m in \u001b[0;36mload_img\u001b[1;34m(path, grayscale, color_mode, target_size, interpolation)\u001b[0m\n\u001b[0;32m    108\u001b[0m         raise ImportError('Could not import PIL.Image. '\n\u001b[0;32m    109\u001b[0m                           'The use of `load_img` requires PIL.')\n\u001b[1;32m--> 110\u001b[1;33m     \u001b[0mimg\u001b[0m \u001b[1;33m=\u001b[0m \u001b[0mpil_image\u001b[0m\u001b[1;33m.\u001b[0m\u001b[0mopen\u001b[0m\u001b[1;33m(\u001b[0m\u001b[0mpath\u001b[0m\u001b[1;33m)\u001b[0m\u001b[1;33m\u001b[0m\u001b[1;33m\u001b[0m\u001b[0m\n\u001b[0m\u001b[0;32m    111\u001b[0m     \u001b[1;32mif\u001b[0m \u001b[0mcolor_mode\u001b[0m \u001b[1;33m==\u001b[0m \u001b[1;34m'grayscale'\u001b[0m\u001b[1;33m:\u001b[0m\u001b[1;33m\u001b[0m\u001b[1;33m\u001b[0m\u001b[0m\n\u001b[0;32m    112\u001b[0m         \u001b[1;32mif\u001b[0m \u001b[0mimg\u001b[0m\u001b[1;33m.\u001b[0m\u001b[0mmode\u001b[0m \u001b[1;33m!=\u001b[0m \u001b[1;34m'L'\u001b[0m\u001b[1;33m:\u001b[0m\u001b[1;33m\u001b[0m\u001b[1;33m\u001b[0m\u001b[0m\n",
      "\u001b[1;32m~\\Anaconda3\\envs\\tf_gpu\\lib\\site-packages\\PIL\\Image.py\u001b[0m in \u001b[0;36mopen\u001b[1;34m(fp, mode)\u001b[0m\n\u001b[0;32m   2768\u001b[0m \u001b[1;33m\u001b[0m\u001b[0m\n\u001b[0;32m   2769\u001b[0m     \u001b[1;32mif\u001b[0m \u001b[0mfilename\u001b[0m\u001b[1;33m:\u001b[0m\u001b[1;33m\u001b[0m\u001b[1;33m\u001b[0m\u001b[0m\n\u001b[1;32m-> 2770\u001b[1;33m         \u001b[0mfp\u001b[0m \u001b[1;33m=\u001b[0m \u001b[0mbuiltins\u001b[0m\u001b[1;33m.\u001b[0m\u001b[0mopen\u001b[0m\u001b[1;33m(\u001b[0m\u001b[0mfilename\u001b[0m\u001b[1;33m,\u001b[0m \u001b[1;34m\"rb\"\u001b[0m\u001b[1;33m)\u001b[0m\u001b[1;33m\u001b[0m\u001b[1;33m\u001b[0m\u001b[0m\n\u001b[0m\u001b[0;32m   2771\u001b[0m         \u001b[0mexclusive_fp\u001b[0m \u001b[1;33m=\u001b[0m \u001b[1;32mTrue\u001b[0m\u001b[1;33m\u001b[0m\u001b[1;33m\u001b[0m\u001b[0m\n\u001b[0;32m   2772\u001b[0m \u001b[1;33m\u001b[0m\u001b[0m\n",
      "\u001b[1;31mFileNotFoundError\u001b[0m: [Errno 2] No such file or directory: 'data/rust/masked_1.jpg'"
     ]
    }
   ],
   "source": [
    "img = load_img('data/rust/masked_1.jpg')  # this is a PIL image"
   ]
  },
  {
   "cell_type": "code",
   "execution_count": 5,
   "metadata": {},
   "outputs": [],
   "source": [
    "x = img_to_array(img)  # this is a Numpy array with shape (3, 150, 150)\n",
    "x = x.reshape((1,) + x.shape)  # this is a Numpy array with shape (1, 3, 150, 150)"
   ]
  },
  {
   "cell_type": "code",
   "execution_count": 6,
   "metadata": {},
   "outputs": [
    {
     "data": {
      "text/plain": [
       "(1, 2048, 1152, 3)"
      ]
     },
     "execution_count": 6,
     "metadata": {},
     "output_type": "execute_result"
    }
   ],
   "source": [
    "x.shape"
   ]
  },
  {
   "cell_type": "code",
   "execution_count": 8,
   "metadata": {},
   "outputs": [],
   "source": [
    "# the .flow() command below generates batches of randomly transformed images\n",
    "# and saves the results to the `preview/` directory\n",
    "i = 0\n",
    "for batch in datagen.flow(x, batch_size=1,\n",
    "                          save_to_dir='data/rust_generated', save_prefix='cat', save_format='jpeg'):\n",
    "    i += 1\n",
    "    if i > 20:\n",
    "        break  # otherwise the generator would loop indefinitely"
   ]
  },
  {
   "cell_type": "code",
   "execution_count": null,
   "metadata": {},
   "outputs": [],
   "source": []
  },
  {
   "cell_type": "code",
   "execution_count": 4,
   "metadata": {},
   "outputs": [],
   "source": [
    "from keras.models import Sequential\n",
    "from keras.layers import Conv2D, MaxPooling2D\n",
    "from keras.layers import Activation, Dropout, Flatten, Dense"
   ]
  },
  {
   "cell_type": "code",
   "execution_count": 4,
   "metadata": {
    "collapsed": true
   },
   "outputs": [
    {
     "name": "stdout",
     "output_type": "stream",
     "text": [
      "Collecting package metadata (repodata.json): ...working... done\n",
      "Solving environment: ...working... failed with initial frozen solve. Retrying with flexible solve.\n"
     ]
    },
    {
     "name": "stderr",
     "output_type": "stream",
     "text": [
      "\n",
      "PackagesNotFoundError: The following packages are not available from current channels:\n",
      "\n",
      "  - pil\n",
      "\n",
      "Current channels:\n",
      "\n",
      "  - https://repo.anaconda.com/pkgs/main/win-64\n",
      "  - https://repo.anaconda.com/pkgs/main/noarch\n",
      "  - https://repo.anaconda.com/pkgs/r/win-64\n",
      "  - https://repo.anaconda.com/pkgs/r/noarch\n",
      "  - https://repo.anaconda.com/pkgs/msys2/win-64\n",
      "  - https://repo.anaconda.com/pkgs/msys2/noarch\n",
      "\n",
      "To search for alternate channels that may provide the conda package you're\n",
      "looking for, navigate to\n",
      "\n",
      "    https://anaconda.org\n",
      "\n",
      "and use the search bar at the top of the page.\n",
      "\n",
      "\n"
     ]
    }
   ],
   "source": [
    "!conda install PIL"
   ]
  },
  {
   "cell_type": "code",
   "execution_count": 13,
   "metadata": {},
   "outputs": [],
   "source": [
    "img_shape = (150, 150)"
   ]
  },
  {
   "cell_type": "code",
   "execution_count": 14,
   "metadata": {},
   "outputs": [],
   "source": [
    "model = Sequential()\n",
    "model.add(Conv2D(32, (3, 3), input_shape=img_shape + (3,)))\n",
    "model.add(Activation('relu'))\n",
    "model.add(MaxPooling2D(pool_size=(2, 2)))\n",
    "\n",
    "model.add(Conv2D(32, (3, 3)))\n",
    "model.add(Activation('relu'))\n",
    "model.add(MaxPooling2D(pool_size=(2, 2)))\n",
    "\n",
    "model.add(Conv2D(64, (3, 3)))\n",
    "model.add(Activation('relu'))\n",
    "model.add(MaxPooling2D(pool_size=(2, 2)))"
   ]
  },
  {
   "cell_type": "code",
   "execution_count": 15,
   "metadata": {},
   "outputs": [],
   "source": [
    "model.add(Flatten())  # this converts our 3D feature maps to 1D feature vectors\n",
    "model.add(Dense(64))\n",
    "model.add(Activation('relu'))\n",
    "model.add(Dropout(0.5))\n",
    "model.add(Dense(1))\n",
    "model.add(Activation('sigmoid'))\n",
    "\n",
    "model.compile(loss='binary_crossentropy',\n",
    "              optimizer='rmsprop',\n",
    "              metrics=['accuracy'])"
   ]
  },
  {
   "cell_type": "code",
   "execution_count": 16,
   "metadata": {},
   "outputs": [
    {
     "name": "stdout",
     "output_type": "stream",
     "text": [
      "Found 1247 images belonging to 2 classes.\n",
      "Found 313 images belonging to 2 classes.\n"
     ]
    }
   ],
   "source": [
    "batch_size = 16\n",
    "\n",
    "# this is the augmentation configuration we will use for training\n",
    "train_datagen = ImageDataGenerator(\n",
    "        rescale=1./255,\n",
    "        shear_range=0.2,\n",
    "        zoom_range=0.2,\n",
    "        horizontal_flip=True)\n",
    "\n",
    "# this is the augmentation configuration we will use for testing:\n",
    "# only rescaling\n",
    "test_datagen = ImageDataGenerator(rescale=1./255)\n",
    "\n",
    "# this is a generator that will read pictures found in\n",
    "# subfolers of 'data/train', and indefinitely generate\n",
    "# batches of augmented image data\n",
    "train_generator = train_datagen.flow_from_directory(\n",
    "        'data/train',  # this is the target directory\n",
    "        target_size=img_shape,  # all images will be resized to 150x150\n",
    "        batch_size=batch_size,\n",
    "        class_mode='binary')  # since we use binary_crossentropy loss, we need binary labels\n",
    "\n",
    "# this is a similar generator, for validation data\n",
    "validation_generator = test_datagen.flow_from_directory(\n",
    "        'data/test',\n",
    "        target_size=img_shape,\n",
    "        batch_size=batch_size,\n",
    "        class_mode='binary')"
   ]
  },
  {
   "cell_type": "code",
   "execution_count": 17,
   "metadata": {
    "scrolled": false
   },
   "outputs": [
    {
     "name": "stdout",
     "output_type": "stream",
     "text": [
      "Epoch 1/50\n",
      "125/125 [==============================] - 107s 859ms/step - loss: 0.6806 - accuracy: 0.5788 - val_loss: 0.5838 - val_accuracy: 0.6310\n",
      "Epoch 2/50\n",
      "125/125 [==============================] - 98s 782ms/step - loss: 0.6417 - accuracy: 0.6471 - val_loss: 0.4569 - val_accuracy: 0.6932\n",
      "Epoch 3/50\n",
      "125/125 [==============================] - 93s 745ms/step - loss: 0.6241 - accuracy: 0.6612 - val_loss: 0.5087 - val_accuracy: 0.7265\n",
      "Epoch 4/50\n",
      "125/125 [==============================] - 98s 782ms/step - loss: 0.5871 - accuracy: 0.6877 - val_loss: 0.5876 - val_accuracy: 0.7407\n",
      "Epoch 5/50\n",
      "125/125 [==============================] - 92s 736ms/step - loss: 0.5755 - accuracy: 0.7204 - val_loss: 0.5349 - val_accuracy: 0.7112\n",
      "Epoch 6/50\n",
      "125/125 [==============================] - 96s 772ms/step - loss: 0.5319 - accuracy: 0.7447 - val_loss: 0.4523 - val_accuracy: 0.6893\n",
      "Epoch 7/50\n",
      "125/125 [==============================] - 104s 835ms/step - loss: 0.4899 - accuracy: 0.7829 - val_loss: 0.3047 - val_accuracy: 0.8092\n",
      "Epoch 8/50\n",
      "125/125 [==============================] - 93s 741ms/step - loss: 0.4245 - accuracy: 0.8083 - val_loss: 0.5721 - val_accuracy: 0.8151\n",
      "Epoch 9/50\n",
      "125/125 [==============================] - 92s 734ms/step - loss: 0.3702 - accuracy: 0.8494 - val_loss: 0.3490 - val_accuracy: 0.7952\n",
      "Epoch 10/50\n",
      "125/125 [==============================] - 92s 736ms/step - loss: 0.3417 - accuracy: 0.8639 - val_loss: 0.2841 - val_accuracy: 0.9076\n",
      "Epoch 11/50\n",
      "125/125 [==============================] - 92s 733ms/step - loss: 0.3058 - accuracy: 0.8834 - val_loss: 0.1049 - val_accuracy: 0.9046\n",
      "Epoch 12/50\n",
      "125/125 [==============================] - 92s 735ms/step - loss: 0.3071 - accuracy: 0.8899 - val_loss: 0.4882 - val_accuracy: 0.9089\n",
      "Epoch 13/50\n",
      "125/125 [==============================] - 92s 738ms/step - loss: 0.2847 - accuracy: 0.9049 - val_loss: 1.0541 - val_accuracy: 0.8244\n",
      "Epoch 14/50\n",
      "125/125 [==============================] - 92s 736ms/step - loss: 0.2701 - accuracy: 0.9070 - val_loss: 0.3254 - val_accuracy: 0.9487\n",
      "Epoch 15/50\n",
      "125/125 [==============================] - 92s 735ms/step - loss: 0.2633 - accuracy: 0.9174 - val_loss: 0.2866 - val_accuracy: 0.9288\n",
      "Epoch 16/50\n",
      "125/125 [==============================] - 93s 741ms/step - loss: 0.2497 - accuracy: 0.9079 - val_loss: 0.0755 - val_accuracy: 0.9358\n",
      "Epoch 17/50\n",
      "125/125 [==============================] - 92s 736ms/step - loss: 0.2306 - accuracy: 0.9160 - val_loss: 0.2722 - val_accuracy: 0.9160\n",
      "Epoch 18/50\n",
      "125/125 [==============================] - 92s 735ms/step - loss: 0.2446 - accuracy: 0.9239 - val_loss: 0.3050 - val_accuracy: 0.9371\n",
      "Epoch 19/50\n",
      "125/125 [==============================] - 91s 726ms/step - loss: 0.2210 - accuracy: 0.9234 - val_loss: 0.0994 - val_accuracy: 0.9046\n",
      "Epoch 20/50\n",
      "125/125 [==============================] - 91s 732ms/step - loss: 0.2236 - accuracy: 0.9240 - val_loss: 0.1197 - val_accuracy: 0.9409\n",
      "Epoch 21/50\n",
      "125/125 [==============================] - 91s 731ms/step - loss: 0.2178 - accuracy: 0.9289 - val_loss: 0.1877 - val_accuracy: 0.9402\n",
      "Epoch 22/50\n",
      "125/125 [==============================] - 92s 732ms/step - loss: 0.2284 - accuracy: 0.9309 - val_loss: 0.1825 - val_accuracy: 0.9101\n",
      "Epoch 23/50\n",
      "125/125 [==============================] - 92s 734ms/step - loss: 0.2003 - accuracy: 0.9315 - val_loss: 0.1370 - val_accuracy: 0.9491\n",
      "Epoch 24/50\n",
      "125/125 [==============================] - 92s 739ms/step - loss: 0.2132 - accuracy: 0.9369 - val_loss: 0.0991 - val_accuracy: 0.9461\n",
      "Epoch 25/50\n",
      "125/125 [==============================] - 92s 734ms/step - loss: 0.2138 - accuracy: 0.9380 - val_loss: 0.1021 - val_accuracy: 0.9542\n",
      "Epoch 26/50\n",
      "125/125 [==============================] - 90s 723ms/step - loss: 0.1975 - accuracy: 0.9364 - val_loss: 0.3053 - val_accuracy: 0.9499\n",
      "Epoch 27/50\n",
      "125/125 [==============================] - 91s 725ms/step - loss: 0.2213 - accuracy: 0.9330 - val_loss: 0.2196 - val_accuracy: 0.9517\n",
      "Epoch 28/50\n",
      "125/125 [==============================] - 90s 724ms/step - loss: 0.2077 - accuracy: 0.9329 - val_loss: 0.2585 - val_accuracy: 0.9332\n",
      "Epoch 29/50\n",
      "125/125 [==============================] - 91s 726ms/step - loss: 0.2148 - accuracy: 0.9435 - val_loss: 0.0441 - val_accuracy: 0.9555\n",
      "Epoch 30/50\n",
      "125/125 [==============================] - 91s 732ms/step - loss: 0.1985 - accuracy: 0.9384 - val_loss: 0.0108 - val_accuracy: 0.9525\n",
      "Epoch 31/50\n",
      "125/125 [==============================] - 90s 723ms/step - loss: 0.2109 - accuracy: 0.9424 - val_loss: 0.0896 - val_accuracy: 0.9453\n",
      "Epoch 32/50\n",
      "125/125 [==============================] - 92s 735ms/step - loss: 0.1959 - accuracy: 0.9420 - val_loss: 0.0463 - val_accuracy: 0.9602\n",
      "Epoch 33/50\n",
      "125/125 [==============================] - 93s 748ms/step - loss: 0.1844 - accuracy: 0.9454 - val_loss: 0.0172 - val_accuracy: 0.9555\n",
      "Epoch 34/50\n",
      "125/125 [==============================] - 94s 748ms/step - loss: 0.1920 - accuracy: 0.9475 - val_loss: 0.0978 - val_accuracy: 0.9666\n",
      "Epoch 35/50\n",
      "125/125 [==============================] - 91s 725ms/step - loss: 0.2102 - accuracy: 0.9374 - val_loss: 0.3181 - val_accuracy: 0.9542\n",
      "Epoch 36/50\n",
      "125/125 [==============================] - 93s 746ms/step - loss: 0.2296 - accuracy: 0.9399 - val_loss: 0.4336 - val_accuracy: 0.8716\n",
      "Epoch 37/50\n",
      "125/125 [==============================] - 93s 744ms/step - loss: 0.1866 - accuracy: 0.9440 - val_loss: 0.0376 - val_accuracy: 0.9593\n",
      "Epoch 38/50\n",
      "125/125 [==============================] - 94s 755ms/step - loss: 0.1872 - accuracy: 0.9444 - val_loss: 0.2336 - val_accuracy: 0.9268\n",
      "Epoch 39/50\n",
      "125/125 [==============================] - 97s 776ms/step - loss: 0.1897 - accuracy: 0.9515 - val_loss: 0.1100 - val_accuracy: 0.9580\n",
      "Epoch 40/50\n",
      "125/125 [==============================] - 95s 760ms/step - loss: 0.1741 - accuracy: 0.9484 - val_loss: 2.0032 - val_accuracy: 0.9191\n",
      "Epoch 41/50\n",
      "125/125 [==============================] - 96s 766ms/step - loss: 0.1613 - accuracy: 0.9490 - val_loss: 0.1270 - val_accuracy: 0.9033\n",
      "Epoch 42/50\n",
      "125/125 [==============================] - 101s 807ms/step - loss: 0.2173 - accuracy: 0.9469 - val_loss: 0.0247 - val_accuracy: 0.9217\n",
      "Epoch 43/50\n",
      "125/125 [==============================] - 91s 726ms/step - loss: 0.1625 - accuracy: 0.9540 - val_loss: 0.0444 - val_accuracy: 0.9618\n",
      "Epoch 44/50\n",
      "125/125 [==============================] - 95s 757ms/step - loss: 0.1718 - accuracy: 0.9520 - val_loss: 0.0497 - val_accuracy: 0.9358\n",
      "Epoch 45/50\n",
      "125/125 [==============================] - 91s 728ms/step - loss: 0.1874 - accuracy: 0.9425 - val_loss: 0.1596 - val_accuracy: 0.9555\n",
      "Epoch 46/50\n",
      "125/125 [==============================] - 91s 726ms/step - loss: 0.1479 - accuracy: 0.9540 - val_loss: 0.0016 - val_accuracy: 0.9268\n",
      "Epoch 47/50\n",
      "125/125 [==============================] - 92s 732ms/step - loss: 0.1672 - accuracy: 0.9535 - val_loss: 0.3566 - val_accuracy: 0.9529\n",
      "Epoch 48/50\n",
      "125/125 [==============================] - 91s 728ms/step - loss: 0.1715 - accuracy: 0.9505 - val_loss: 0.0236 - val_accuracy: 0.9448\n",
      "Epoch 49/50\n",
      "125/125 [==============================] - 94s 748ms/step - loss: 0.1601 - accuracy: 0.9545 - val_loss: 0.0565 - val_accuracy: 0.9453\n",
      "Epoch 50/50\n",
      "125/125 [==============================] - 91s 724ms/step - loss: 0.1612 - accuracy: 0.9545 - val_loss: 0.0231 - val_accuracy: 0.9345\n"
     ]
    },
    {
     "data": {
      "text/plain": [
       "<keras.callbacks.callbacks.History at 0x172fb05cc08>"
      ]
     },
     "execution_count": 17,
     "metadata": {},
     "output_type": "execute_result"
    }
   ],
   "source": [
    "model.fit_generator(\n",
    "        train_generator,\n",
    "        steps_per_epoch=2000 // batch_size,\n",
    "        epochs=50,\n",
    "        validation_data=validation_generator,\n",
    "        validation_steps=800 // batch_size)"
   ]
  },
  {
   "cell_type": "code",
   "execution_count": 18,
   "metadata": {},
   "outputs": [],
   "source": [
    "model.save_weights('first_try.h5')  # always save your weights after training or during training"
   ]
  },
  {
   "cell_type": "code",
   "execution_count": null,
   "metadata": {},
   "outputs": [],
   "source": []
  }
 ],
 "metadata": {
  "kernelspec": {
   "display_name": "Python 3",
   "language": "python",
   "name": "python3"
  },
  "language_info": {
   "codemirror_mode": {
    "name": "ipython",
    "version": 3
   },
   "file_extension": ".py",
   "mimetype": "text/x-python",
   "name": "python",
   "nbconvert_exporter": "python",
   "pygments_lexer": "ipython3",
   "version": "3.7.4"
  }
 },
 "nbformat": 4,
 "nbformat_minor": 2
}
