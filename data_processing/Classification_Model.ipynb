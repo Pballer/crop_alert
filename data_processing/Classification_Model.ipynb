{
 "cells": [
  {
   "cell_type": "code",
   "execution_count": 1,
   "metadata": {},
   "outputs": [
    {
     "name": "stderr",
     "output_type": "stream",
     "text": [
      "Using TensorFlow backend.\n"
     ]
    }
   ],
   "source": [
    "import pathlib\n",
    "from keras.preprocessing.image import ImageDataGenerator, array_to_img, img_to_array, load_img\n",
    "from keras.models import Sequential, load_model\n",
    "from keras.layers import Conv2D, MaxPooling2D\n",
    "from keras.layers import Activation, Dropout, Flatten, Dense\n",
    "from tensorflow.keras.optimizers import RMSprop, SGD\n",
    "from keras.utils import plot_model\n",
    "from keras import Model\n",
    "from keras.callbacks import LearningRateScheduler\n",
    "from keras.backend import clear_session\n",
    "from keras.applications.inception_v3 import InceptionV3\n",
    "from keras.applications.vgg16 import VGG16\n",
    "from sklearn.metrics import confusion_matrix, classification_report\n",
    "import numpy as np\n",
    "from PIL import Image\n",
    "from IPython.display import display\n",
    "import matplotlib.pyplot as plt\n",
    "%matplotlib inline"
   ]
  },
  {
   "cell_type": "markdown",
   "metadata": {},
   "source": [
    "### Train Keras model"
   ]
  },
  {
   "cell_type": "code",
   "execution_count": 2,
   "metadata": {},
   "outputs": [],
   "source": [
    "img_shape = (224, 224)\n",
    "clear_session()"
   ]
  },
  {
   "cell_type": "markdown",
   "metadata": {},
   "source": [
    "pre_trained_model = VGG16(input_shape=img_shape + (3,), \n",
    "                                include_top=False, \n",
    "                                weights=None) #'imagenet')"
   ]
  },
  {
   "cell_type": "code",
   "execution_count": 4,
   "metadata": {},
   "outputs": [],
   "source": [
    "#inception_v3_weights_file = r'model\\inception_v3_weights_tf_dim_ordering_tf_kernels_notop.h5'"
   ]
  },
  {
   "cell_type": "code",
   "execution_count": 5,
   "metadata": {},
   "outputs": [],
   "source": [
    "#pre_trained_model.load_weights(inception_v3_weights_file)"
   ]
  },
  {
   "cell_type": "code",
   "execution_count": 6,
   "metadata": {},
   "outputs": [],
   "source": [
    "for pre_trained_layer in pre_trained_model.layers:\n",
    "  pre_trained_layer.trainable = True"
   ]
  },
  {
   "cell_type": "code",
   "execution_count": 7,
   "metadata": {},
   "outputs": [
    {
     "name": "stdout",
     "output_type": "stream",
     "text": [
      "last layer output shape:  (None, 7, 7, 512)\n"
     ]
    }
   ],
   "source": [
    "last_layer = pre_trained_model.layers[-1]\n",
    "print('last layer output shape: ', last_layer.output_shape)\n",
    "last_output = last_layer.output"
   ]
  },
  {
   "cell_type": "code",
   "execution_count": 8,
   "metadata": {},
   "outputs": [],
   "source": [
    "# Flatten the output layer to 1 dimension\n",
    "x = Flatten()(last_output)\n",
    "# Add a fully connected layer with 1,024 hidden units and ReLU activation\n",
    "x = Dense(512, activation='relu')(x)\n",
    "# Add a dropout rate of 0.2\n",
    "x = Dropout(0.2)(x)                  \n",
    "# Add a final sigmoid layer for classification\n",
    "x = Dense(3, activation='softmax')(x)           \n",
    "\n",
    "model = Model(pre_trained_model.input, x) "
   ]
  },
  {
   "cell_type": "code",
   "execution_count": 37,
   "metadata": {},
   "outputs": [],
   "source": [
    "#my model 76%\n",
    "model = Sequential([\n",
    "    Conv2D(16, (3, 3), input_shape=img_shape + (3,), activation='relu'),\n",
    "    MaxPooling2D(pool_size=(2, 2)),\n",
    "\n",
    "    Conv2D(32, (3, 3), activation='relu'),\n",
    "    MaxPooling2D(pool_size=(2, 2)),\n",
    "\n",
    "    Conv2D(64, (3, 3), activation='relu'),\n",
    "    MaxPooling2D(pool_size=(2, 2)),\n",
    "\n",
    "    Flatten(),  # this converts our 3D feature maps to 1D feature vectors\n",
    "    Dense(64, activation='relu'),\n",
    "    Dropout(0.20),\n",
    "    Dense(3, activation='softmax'),\n",
    "])\n",
    "\n",
    "model.compile(loss='categorical_crossentropy',\n",
    "              optimizer='adam',\n",
    "              metrics=['accuracy'])"
   ]
  },
  {
   "cell_type": "code",
   "execution_count": 4,
   "metadata": {},
   "outputs": [],
   "source": [
    "model.compile(loss='categorical_crossentropy', optimizer='adam', metrics=['accuracy'])"
   ]
  },
  {
   "cell_type": "code",
   "execution_count": 5,
   "metadata": {},
   "outputs": [
    {
     "name": "stdout",
     "output_type": "stream",
     "text": [
      "Found 1245 images belonging to 3 classes.\n",
      "Found 315 images belonging to 3 classes.\n"
     ]
    }
   ],
   "source": [
    "batch_size = 16\n",
    "\n",
    "# this is the augmentation configuration we will use for training\n",
    "train_datagen = ImageDataGenerator(\n",
    "        rescale=1./255,\n",
    "        shear_range=0.2,\n",
    "        zoom_range=0.2,\n",
    "        horizontal_flip=True)\n",
    "\n",
    "# this is the augmentation configuration we will use for testing:\n",
    "# only rescaling\n",
    "test_datagen = ImageDataGenerator(rescale=1./255)\n",
    "\n",
    "# this is a generator that will read pictures found in\n",
    "# subfolers of 'data/train', and indefinitely generate\n",
    "# batches of augmented image data\n",
    "train_generator = train_datagen.flow_from_directory(\n",
    "        'data/train',  # this is the target directory\n",
    "        target_size=img_shape,  # all images will be resized to 150x150\n",
    "        batch_size=batch_size,\n",
    "        class_mode='categorical')  # since we use binary_crossentropy loss, we need binary labels\n",
    "\n",
    "# this is a similar generator, for validation data\n",
    "validation_generator = test_datagen.flow_from_directory(\n",
    "        'data/test',\n",
    "        target_size=img_shape,\n",
    "        batch_size=batch_size,\n",
    "        class_mode='categorical')"
   ]
  },
  {
   "cell_type": "code",
   "execution_count": 6,
   "metadata": {},
   "outputs": [],
   "source": [
    "# lr debug callback\n",
    "#lr_schedule = LearningRateScheduler(\n",
    "#    lambda epoch: 1e-8 * 10**(epoch / 20))"
   ]
  },
  {
   "cell_type": "code",
   "execution_count": 25,
   "metadata": {},
   "outputs": [
    {
     "name": "stdout",
     "output_type": "stream",
     "text": [
      "Epoch 1/15\n",
      "125/125 [==============================] - 122s 975ms/step - loss: 0.3049 - accuracy: 0.8763 - val_loss: 0.9816 - val_accuracy: 0.7494\n",
      "Epoch 2/15\n",
      "125/125 [==============================] - 113s 907ms/step - loss: 0.2673 - accuracy: 0.8912 - val_loss: 1.5745 - val_accuracy: 0.7172\n",
      "Epoch 3/15\n",
      "125/125 [==============================] - 112s 894ms/step - loss: 0.2563 - accuracy: 0.9042 - val_loss: 0.3031 - val_accuracy: 0.7506\n",
      "Epoch 4/15\n",
      "125/125 [==============================] - 112s 894ms/step - loss: 0.2627 - accuracy: 0.8982 - val_loss: 1.6380 - val_accuracy: 0.6981\n",
      "Epoch 5/15\n",
      "125/125 [==============================] - 113s 903ms/step - loss: 0.2099 - accuracy: 0.9244 - val_loss: 0.7060 - val_accuracy: 0.7772\n",
      "Epoch 6/15\n",
      "125/125 [==============================] - 112s 892ms/step - loss: 0.2002 - accuracy: 0.9279 - val_loss: 1.5306 - val_accuracy: 0.7376\n",
      "Epoch 7/15\n",
      "125/125 [==============================] - 112s 893ms/step - loss: 0.1807 - accuracy: 0.9417 - val_loss: 1.1333 - val_accuracy: 0.7759\n",
      "Epoch 8/15\n",
      "125/125 [==============================] - 115s 921ms/step - loss: 0.1745 - accuracy: 0.9324 - val_loss: 1.3819 - val_accuracy: 0.7236\n",
      "Epoch 9/15\n",
      "125/125 [==============================] - 113s 902ms/step - loss: 0.1552 - accuracy: 0.9459 - val_loss: 0.4994 - val_accuracy: 0.8013\n",
      "Epoch 10/15\n",
      "125/125 [==============================] - 113s 903ms/step - loss: 0.1368 - accuracy: 0.9468 - val_loss: 2.8121 - val_accuracy: 0.6968\n",
      "Epoch 11/15\n",
      "125/125 [==============================] - 112s 900ms/step - loss: 0.1565 - accuracy: 0.9413 - val_loss: 1.1093 - val_accuracy: 0.7861\n",
      "Epoch 12/15\n",
      "125/125 [==============================] - 111s 891ms/step - loss: 0.1418 - accuracy: 0.9424 - val_loss: 2.7749 - val_accuracy: 0.7274\n",
      "Epoch 13/15\n",
      "125/125 [==============================] - 112s 895ms/step - loss: 0.1470 - accuracy: 0.9424 - val_loss: 1.0995 - val_accuracy: 0.7835\n",
      "Epoch 14/15\n",
      "125/125 [==============================] - 113s 904ms/step - loss: 0.1304 - accuracy: 0.9549 - val_loss: 2.8555 - val_accuracy: 0.7236\n",
      "Epoch 15/15\n",
      "125/125 [==============================] - 114s 913ms/step - loss: 0.1209 - accuracy: 0.9584 - val_loss: 0.8549 - val_accuracy: 0.8177\n"
     ]
    }
   ],
   "source": [
    "history = model.fit_generator(\n",
    "    train_generator,\n",
    "    steps_per_epoch=2000 // batch_size,\n",
    "    epochs=15,\n",
    "    validation_data=validation_generator,\n",
    "    validation_steps=800 // batch_size, \n",
    "    #callbacks=[lr_schedule],\n",
    ")"
   ]
  },
  {
   "cell_type": "code",
   "execution_count": 39,
   "metadata": {},
   "outputs": [],
   "source": [
    "#for layer in model.layers:\n",
    "#   layer.trainable = False\n",
    "for layer in model.layers[-6:]:\n",
    "   layer.trainable = True"
   ]
  },
  {
   "cell_type": "code",
   "execution_count": 40,
   "metadata": {},
   "outputs": [],
   "source": [
    "model.compile(optimizer='adam', loss='categorical_crossentropy', metrics=['accuracy'])"
   ]
  },
  {
   "cell_type": "code",
   "execution_count": 41,
   "metadata": {
    "collapsed": true
   },
   "outputs": [
    {
     "name": "stdout",
     "output_type": "stream",
     "text": [
      "Epoch 1/15\n",
      "125/125 [==============================] - 95s 760ms/step - loss: 0.9587 - accuracy: 0.6274 - val_loss: 0.5361 - val_accuracy: 0.6671\n",
      "Epoch 2/15\n",
      "125/125 [==============================] - 89s 715ms/step - loss: 0.7516 - accuracy: 0.6926 - val_loss: 1.0872 - val_accuracy: 0.6535\n",
      "Epoch 3/15\n",
      "125/125 [==============================] - 89s 712ms/step - loss: 0.6726 - accuracy: 0.7121 - val_loss: 0.5604 - val_accuracy: 0.6835\n",
      "Epoch 4/15\n",
      "125/125 [==============================] - 91s 729ms/step - loss: 0.6334 - accuracy: 0.7251 - val_loss: 1.2466 - val_accuracy: 0.6713\n",
      "Epoch 5/15\n",
      "125/125 [==============================] - 89s 710ms/step - loss: 0.5932 - accuracy: 0.7543 - val_loss: 0.5734 - val_accuracy: 0.6861\n",
      "Epoch 6/15\n",
      "125/125 [==============================] - 89s 716ms/step - loss: 0.4998 - accuracy: 0.7937 - val_loss: 1.7157 - val_accuracy: 0.7057\n",
      "Epoch 7/15\n",
      "125/125 [==============================] - 89s 715ms/step - loss: 0.5091 - accuracy: 0.7885 - val_loss: 0.7421 - val_accuracy: 0.6709\n",
      "Epoch 8/15\n",
      "125/125 [==============================] - 91s 726ms/step - loss: 0.4474 - accuracy: 0.8167 - val_loss: 1.1504 - val_accuracy: 0.6904\n",
      "Epoch 9/15\n",
      "125/125 [==============================] - 89s 713ms/step - loss: 0.4217 - accuracy: 0.8348 - val_loss: 1.3198 - val_accuracy: 0.6861\n",
      "Epoch 10/15\n",
      "125/125 [==============================] - 92s 733ms/step - loss: 0.3962 - accuracy: 0.8490 - val_loss: 1.2633 - val_accuracy: 0.7121\n",
      "Epoch 11/15\n",
      "125/125 [==============================] - 88s 703ms/step - loss: 0.3487 - accuracy: 0.8608 - val_loss: 1.0542 - val_accuracy: 0.6924\n",
      "Epoch 12/15\n",
      "125/125 [==============================] - 91s 728ms/step - loss: 0.2991 - accuracy: 0.8806 - val_loss: 0.8543 - val_accuracy: 0.7045\n",
      "Epoch 13/15\n",
      "125/125 [==============================] - 89s 712ms/step - loss: 0.3057 - accuracy: 0.8867 - val_loss: 0.8813 - val_accuracy: 0.6747\n",
      "Epoch 14/15\n",
      "125/125 [==============================] - 91s 729ms/step - loss: 0.2629 - accuracy: 0.8977 - val_loss: 0.3055 - val_accuracy: 0.7083\n",
      "Epoch 15/15\n",
      "125/125 [==============================] - 89s 710ms/step - loss: 0.2086 - accuracy: 0.9144 - val_loss: 2.0830 - val_accuracy: 0.6899\n"
     ]
    }
   ],
   "source": [
    "history = model.fit_generator(\n",
    "    train_generator,\n",
    "    steps_per_epoch=2000 // batch_size,\n",
    "    epochs=15,\n",
    "    validation_data=validation_generator,\n",
    "    validation_steps=800 // batch_size, \n",
    "    #callbacks=[lr_schedule],\n",
    ")"
   ]
  },
  {
   "cell_type": "code",
   "execution_count": null,
   "metadata": {},
   "outputs": [],
   "source": []
  },
  {
   "cell_type": "code",
   "execution_count": 55,
   "metadata": {},
   "outputs": [
    {
     "name": "stdout",
     "output_type": "stream",
     "text": [
      "Model: \"sequential_1\"\n",
      "_________________________________________________________________\n",
      "Layer (type)                 Output Shape              Param #   \n",
      "=================================================================\n",
      "conv2d_1 (Conv2D)            (None, 254, 254, 64)      1792      \n",
      "_________________________________________________________________\n",
      "max_pooling2d_1 (MaxPooling2 (None, 127, 127, 64)      0         \n",
      "_________________________________________________________________\n",
      "conv2d_2 (Conv2D)            (None, 125, 125, 64)      36928     \n",
      "_________________________________________________________________\n",
      "max_pooling2d_2 (MaxPooling2 (None, 62, 62, 64)        0         \n",
      "_________________________________________________________________\n",
      "conv2d_3 (Conv2D)            (None, 60, 60, 64)        36928     \n",
      "_________________________________________________________________\n",
      "max_pooling2d_3 (MaxPooling2 (None, 30, 30, 64)        0         \n",
      "_________________________________________________________________\n",
      "flatten_1 (Flatten)          (None, 57600)             0         \n",
      "_________________________________________________________________\n",
      "dense_1 (Dense)              (None, 64)                3686464   \n",
      "_________________________________________________________________\n",
      "dropout_1 (Dropout)          (None, 64)                0         \n",
      "_________________________________________________________________\n",
      "dense_2 (Dense)              (None, 3)                 195       \n",
      "=================================================================\n",
      "Total params: 3,762,307\n",
      "Trainable params: 3,762,307\n",
      "Non-trainable params: 0\n",
      "_________________________________________________________________\n"
     ]
    }
   ],
   "source": [
    "#model.summary()"
   ]
  },
  {
   "cell_type": "markdown",
   "metadata": {},
   "source": [
    "### Test Saving"
   ]
  },
  {
   "cell_type": "code",
   "execution_count": null,
   "metadata": {},
   "outputs": [],
   "source": []
  },
  {
   "cell_type": "markdown",
   "metadata": {},
   "source": [
    "### Plotting Results"
   ]
  },
  {
   "cell_type": "code",
   "execution_count": 26,
   "metadata": {},
   "outputs": [
    {
     "name": "stdout",
     "output_type": "stream",
     "text": [
      "Found 315 images belonging to 3 classes.\n"
     ]
    }
   ],
   "source": [
    "validation_generator = test_datagen.flow_from_directory(\n",
    "        'data/test',\n",
    "        target_size=img_shape,\n",
    "        batch_size=batch_size,\n",
    "        class_mode='categorical', \n",
    "        shuffle=False)"
   ]
  },
  {
   "cell_type": "code",
   "execution_count": 27,
   "metadata": {},
   "outputs": [],
   "source": [
    "y_pred = model.predict_generator(validation_generator)\n",
    "y_pred = y_pred.argmax(axis=1)"
   ]
  },
  {
   "cell_type": "code",
   "execution_count": 28,
   "metadata": {},
   "outputs": [],
   "source": [
    "class_names = np.array(list(validation_generator.class_indices.keys()))"
   ]
  },
  {
   "cell_type": "code",
   "execution_count": 29,
   "metadata": {},
   "outputs": [
    {
     "name": "stdout",
     "output_type": "stream",
     "text": [
      "                 precision    recall  f1-score   support\n",
      "\n",
      "        healthy       0.87      0.93      0.90       159\n",
      "red_spider_mite       0.40      0.24      0.30        34\n",
      "           rust       0.75      0.76      0.76       122\n",
      "\n",
      "       accuracy                           0.79       315\n",
      "      macro avg       0.67      0.64      0.65       315\n",
      "   weighted avg       0.77      0.79      0.78       315\n",
      "\n"
     ]
    }
   ],
   "source": [
    "print(classification_report(validation_generator.classes, y_pred, target_names=class_names))"
   ]
  },
  {
   "cell_type": "code",
   "execution_count": 15,
   "metadata": {},
   "outputs": [],
   "source": [
    "#file_name = 'latest_model_3categorical.h5'\n",
    "#model.save(file_name)"
   ]
  },
  {
   "cell_type": "code",
   "execution_count": 16,
   "metadata": {},
   "outputs": [],
   "source": [
    "#model.save_weights('weights_' + file_name)  # always save your weights after training or during training"
   ]
  },
  {
   "cell_type": "code",
   "execution_count": 17,
   "metadata": {},
   "outputs": [],
   "source": [
    "#model = load_model('classification.h5')"
   ]
  },
  {
   "cell_type": "code",
   "execution_count": 18,
   "metadata": {},
   "outputs": [],
   "source": [
    "#plot_model(model)"
   ]
  },
  {
   "cell_type": "code",
   "execution_count": 30,
   "metadata": {},
   "outputs": [
    {
     "data": {
      "image/png": "[encoded data removed]",
      "text/plain": [
       "<Figure size 432x288 with 1 Axes>"
      ]
     },
     "metadata": {
      "needs_background": "light"
     },
     "output_type": "display_data"
    },
    {
     "data": {
      "image/png": "[encoded data removed]",
      "text/plain": [
       "<Figure size 432x288 with 1 Axes>"
      ]
     },
     "metadata": {
      "needs_background": "light"
     },
     "output_type": "display_data"
    }
   ],
   "source": [
    "# Plot training & validation accuracy values\n",
    "plt.plot(history.history['accuracy'])\n",
    "plt.plot(history.history['val_accuracy'])\n",
    "plt.title('Model accuracy')\n",
    "plt.ylabel('Accuracy')\n",
    "plt.xlabel('Epoch')\n",
    "plt.legend(['Train', 'Test'], loc='upper left')\n",
    "plt.show()\n",
    "\n",
    "# Plot training & validation loss values\n",
    "plt.plot(history.history['loss'])\n",
    "plt.plot(history.history['val_loss'])\n",
    "plt.title('Model loss')\n",
    "plt.ylabel('Loss')\n",
    "plt.xlabel('Epoch')\n",
    "plt.legend(['Train', 'Test'], loc='upper left')\n",
    "plt.show()"
   ]
  },
  {
   "cell_type": "code",
   "execution_count": 31,
   "metadata": {},
   "outputs": [],
   "source": [
    "import seaborn as sns\n",
    "import pandas as pd"
   ]
  },
  {
   "cell_type": "code",
   "execution_count": 32,
   "metadata": {},
   "outputs": [],
   "source": [
    "# Compute confusion matrix\n",
    "cm = confusion_matrix(validation_generator.classes, y_pred)"
   ]
  },
  {
   "cell_type": "code",
   "execution_count": 33,
   "metadata": {},
   "outputs": [],
   "source": [
    "cm_df =  pd.DataFrame(cm, columns=class_names, index=class_names)"
   ]
  },
  {
   "cell_type": "code",
   "execution_count": 34,
   "metadata": {},
   "outputs": [
    {
     "data": {
      "text/html": [
       "<div>\n",
       "<style scoped>\n",
       "    .dataframe tbody tr th:only-of-type {\n",
       "        vertical-align: middle;\n",
       "    }\n",
       "\n",
       "    .dataframe tbody tr th {\n",
       "        vertical-align: top;\n",
       "    }\n",
       "\n",
       "    .dataframe thead th {\n",
       "        text-align: right;\n",
       "    }\n",
       "</style>\n",
       "<table border=\"1\" class=\"dataframe\">\n",
       "  <thead>\n",
       "    <tr style=\"text-align: right;\">\n",
       "      <th></th>\n",
       "      <th>healthy</th>\n",
       "      <th>red_spider_mite</th>\n",
       "      <th>rust</th>\n",
       "    </tr>\n",
       "  </thead>\n",
       "  <tbody>\n",
       "    <tr>\n",
       "      <td>healthy</td>\n",
       "      <td>148</td>\n",
       "      <td>1</td>\n",
       "      <td>10</td>\n",
       "    </tr>\n",
       "    <tr>\n",
       "      <td>red_spider_mite</td>\n",
       "      <td>5</td>\n",
       "      <td>8</td>\n",
       "      <td>21</td>\n",
       "    </tr>\n",
       "    <tr>\n",
       "      <td>rust</td>\n",
       "      <td>18</td>\n",
       "      <td>11</td>\n",
       "      <td>93</td>\n",
       "    </tr>\n",
       "  </tbody>\n",
       "</table>\n",
       "</div>"
      ],
      "text/plain": [
       "                 healthy  red_spider_mite  rust\n",
       "healthy              148                1    10\n",
       "red_spider_mite        5                8    21\n",
       "rust                  18               11    93"
      ]
     },
     "execution_count": 34,
     "metadata": {},
     "output_type": "execute_result"
    }
   ],
   "source": [
    "cm_df"
   ]
  },
  {
   "cell_type": "code",
   "execution_count": 35,
   "metadata": {},
   "outputs": [
    {
     "data": {
      "image/png": "[encoded data removed]",
      "text/plain": [
       "<Figure size 432x288 with 2 Axes>"
      ]
     },
     "metadata": {
      "needs_background": "light"
     },
     "output_type": "display_data"
    }
   ],
   "source": [
    "heatmap = sns.heatmap(cm_df, annot=True, fmt='d', cmap=plt.cm.Blues);\n",
    "heatmap.yaxis.set_ticklabels(heatmap.yaxis.get_ticklabels(), rotation=0, ha='right', fontsize=12)\n",
    "heatmap.xaxis.set_ticklabels(heatmap.xaxis.get_ticklabels(), rotation=45, ha='right', fontsize=12)\n",
    "plt.ylabel('True label');\n",
    "plt.xlabel('Predicted label');"
   ]
  },
  {
   "cell_type": "code",
   "execution_count": null,
   "metadata": {},
   "outputs": [],
   "source": []
  }
 ],
 "metadata": {
  "kernelspec": {
   "display_name": "Python 3",
   "language": "python",
   "name": "python3"
  },
  "language_info": {
   "codemirror_mode": {
    "name": "ipython",
    "version": 3
   },
   "file_extension": ".py",
   "mimetype": "text/x-python",
   "name": "python",
   "nbconvert_exporter": "python",
   "pygments_lexer": "ipython3",
   "version": "3.7.4"
  }
 },
 "nbformat": 4,
 "nbformat_minor": 2
}
